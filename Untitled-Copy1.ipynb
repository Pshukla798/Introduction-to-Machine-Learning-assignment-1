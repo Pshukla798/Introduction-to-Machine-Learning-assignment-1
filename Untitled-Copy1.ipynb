{
 "cells": [
  {
   "cell_type": "raw",
   "id": "702027e6-fe66-43b1-a01f-e5cc9c187c3f",
   "metadata": {},
   "source": [
    "Q1- Explain the following with an example:"
   ]
  },
  {
   "cell_type": "markdown",
   "id": "0c9ced58-fe4e-44b8-9349-40d52afe0885",
   "metadata": {},
   "source": [
    "1.Artificial Intelligence (AI):-\n",
    "\n",
    "AI is the simulation of human intelligence in machines. It encompasses Narrow AI, which focuses on specific tasks, and General AI, which possesses human-like intelligence. AI utilizes rule-based systems or Machine Learning/Deep Learning techniques to learn from data and improve performance. For example, a chatbot that uses NLP (Natural Language Processing) to understand and respond to user queries is an application of AI."
   ]
  },
  {
   "cell_type": "markdown",
   "id": "f605fdee-fa5f-40f0-be87-b38e00e0c64a",
   "metadata": {},
   "source": [
    "2.Machine Learning (ML):- \n",
    "ML is a subset of Artificial Intelligence where algorithms learn from data and improve their performance without explicit programming. An example of machine learning is email spam filtering, where the algorithm learns from labeled examples of spam and non-spam emails to automatically classify incoming messages as either spam or not spam."
   ]
  },
  {
   "cell_type": "markdown",
   "id": "98db8e59-ab21-4a5e-9f3c-12d4495259d5",
   "metadata": {},
   "source": [
    "3.Deep Learning (DL):-\n",
    "DL is a subset of Machine Learning that uses neural networks with multiple layers to learn and represent complex patterns from data. An example of deep learning is image recognition, where a deep neural network can be trained to identify objects, animals, or people in images with high accuracy."
   ]
  },
  {
   "cell_type": "raw",
   "id": "1c577e6e-23c9-4fce-a6fe-3c743599d2e2",
   "metadata": {},
   "source": [
    "Q2-what is supervised learning ? List some examples of supervised learning?"
   ]
  },
  {
   "cell_type": "markdown",
   "id": "999d1a26-6812-4d74-a83c-22a3209a4380",
   "metadata": {},
   "source": [
    "Supervised Learning is a type of machine learning where the algorithm learns from labeled data, meaning input-output pairs are provided during training. The goal is to learn a mapping from inputs to outputs, enabling the algorithm to make predictions on unseen data.\n",
    "\n",
    "Exam:-\n",
    "a. Medical Diagnosis: Identifying diseases or conditions based on medical data and patient history.\n",
    "\n",
    "b. Credit Risk Assessment: Predicting the creditworthiness of applicants for loans or credit cards."
   ]
  },
  {
   "cell_type": "raw",
   "id": "b4fb5548-d111-4254-9858-2f538d3906a6",
   "metadata": {},
   "source": [
    "Q3-what is unsupervised learning ? List some examples of unsupervised learning?"
   ]
  },
  {
   "cell_type": "markdown",
   "id": "dda2043e-893b-486a-a907-b5505618028f",
   "metadata": {},
   "source": [
    "Unsupervised Learning is a type of machine learning where the algorithm learns from unlabeled data without explicit input-output pairs during training. The objective is to discover patterns, structures, or relationships within the data without specific guidance on what the output should be.\n",
    "\n",
    "Example:\n",
    "Given a dataset of customer purchase behavior, an unsupervised learning algorithm can group similar customers together based on their buying patterns without knowing their actual preferences or categories beforehand. The algorithm identifies natural clusters in the data, which can then be used for customer segmentation or targeted marketing strategies."
   ]
  },
  {
   "cell_type": "raw",
   "id": "a970101e-ba75-4e8d-9468-f2ac4fc1bde5",
   "metadata": {},
   "source": [
    "Q4.what is the difference between ai ml dl and ds ?"
   ]
  },
  {
   "cell_type": "markdown",
   "id": "39ef2747-cbe5-474a-8353-b32a30b51290",
   "metadata": {},
   "source": [
    "AI is the broader concept that aims to create intelligent machines. ML is a subset of AI that focuses on algorithms learning from data. DL is a specific type of ML using neural networks with multiple layers. DS, on the other hand, is a multidisciplinary field that involves extracting insights and knowledge from data, which may include the application of ML and DL techniques."
   ]
  },
  {
   "cell_type": "raw",
   "id": "4e3346d6-27fb-4111-8db6-93fa079fe9fc",
   "metadata": {},
   "source": [
    "Q5.what is the difference between supervised unsupervised and semisupervised learning?"
   ]
  },
  {
   "cell_type": "markdown",
   "id": "10aeace3-d625-4d41-b898-01861add08ee",
   "metadata": {},
   "source": [
    "supervised learning uses labeled data meaning input-output pairs are provided during training.unsupervised learning uses unlabeled data without explicit input-output pairs during training.and semi-supervised learning uses a combination of labeled and unlabeled data during training."
   ]
  },
  {
   "cell_type": "raw",
   "id": "e30eef9f-6efb-4ba7-b2e3-b39481103631",
   "metadata": {},
   "source": [
    "Q6.What is train, test and validation split? Explain the importance of each term?"
   ]
  },
  {
   "cell_type": "markdown",
   "id": "10dd67bb-4f38-4a99-ae86-d8f134d23414",
   "metadata": {},
   "source": [
    "Training Set: The training set is crucial for teaching the model to learn patterns from data and optimize its parameters. It provides the foundation for the model's understanding and prediction capabilities.\n",
    "\n",
    "Test Set: The test set is used to assess the model's performance on unseen data, ensuring that it generalizes well and performs accurately in real-world scenarios. It serves as an unbiased evaluation of the model's effectiveness.\n",
    "\n",
    "Validation Set: The validation set allows for fine-tuning the model, optimizing hyperparameters, and making architectural decisions. It helps to ensure that the model is neither underfitting nor overfitting and achieves optimal performance."
   ]
  },
  {
   "cell_type": "code",
   "execution_count": null,
   "id": "9e03559c-8f96-4988-963f-c3ffe3c84da8",
   "metadata": {},
   "outputs": [],
   "source": []
  }
 ],
 "metadata": {
  "kernelspec": {
   "display_name": "Python 3 (ipykernel)",
   "language": "python",
   "name": "python3"
  },
  "language_info": {
   "codemirror_mode": {
    "name": "ipython",
    "version": 3
   },
   "file_extension": ".py",
   "mimetype": "text/x-python",
   "name": "python",
   "nbconvert_exporter": "python",
   "pygments_lexer": "ipython3",
   "version": "3.10.8"
  }
 },
 "nbformat": 4,
 "nbformat_minor": 5
}
