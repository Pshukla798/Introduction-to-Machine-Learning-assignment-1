{
  "nbformat": 4,
  "nbformat_minor": 0,
  "metadata": {
    "colab": {
      "provenance": [],
      "authorship_tag": "ABX9TyMrAtx4a5sHdDcwgoaHGRCw",
      "include_colab_link": true
    },
    "kernelspec": {
      "name": "python3",
      "display_name": "Python 3"
    },
    "language_info": {
      "name": "python"
    }
  },
  "cells": [
    {
      "cell_type": "markdown",
      "metadata": {
        "id": "view-in-github",
        "colab_type": "text"
      },
      "source": [
        "<a href=\"https://colab.research.google.com/github/Pshukla798/Introduction-to-Machine-Learning-assignment-1/blob/main/Outliers.ipynb\" target=\"_parent\"><img src=\"https://colab.research.google.com/assets/colab-badge.svg\" alt=\"Open In Colab\"/></a>"
      ]
    },
    {
      "cell_type": "code",
      "execution_count": 1,
      "metadata": {
        "id": "BgR6TV3ao1N-"
      },
      "outputs": [],
      "source": [
        "# Handling Outliers"
      ]
    },
    {
      "cell_type": "code",
      "source": [
        "import numpy as np"
      ],
      "metadata": {
        "id": "lNzMb2V_sL5p"
      },
      "execution_count": 2,
      "outputs": []
    },
    {
      "cell_type": "code",
      "source": [
        "marks = [87,45,23,76,86,94,47.34,78,92,56,75,45,78,98,49,1000,1200]"
      ],
      "metadata": {
        "id": "0VxJDWecpyvM"
      },
      "execution_count": 3,
      "outputs": []
    },
    {
      "cell_type": "code",
      "source": [
        "np.percentile(marks,[25])"
      ],
      "metadata": {
        "colab": {
          "base_uri": "https://localhost:8080/"
        },
        "id": "ulD24noWu6YO",
        "outputId": "dc1a96e0-2cd4-4933-fbc8-19dfbd2eca62"
      },
      "execution_count": 5,
      "outputs": [
        {
          "output_type": "execute_result",
          "data": {
            "text/plain": [
              "array([49.])"
            ]
          },
          "metadata": {},
          "execution_count": 5
        }
      ]
    },
    {
      "cell_type": "code",
      "source": [
        "np.percentile(marks,[75])"
      ],
      "metadata": {
        "colab": {
          "base_uri": "https://localhost:8080/"
        },
        "id": "nXQLUXAKvFpf",
        "outputId": "7437fb19-86bd-4e4a-8fc0-3273111ac320"
      },
      "execution_count": 6,
      "outputs": [
        {
          "output_type": "execute_result",
          "data": {
            "text/plain": [
              "array([92.])"
            ]
          },
          "metadata": {},
          "execution_count": 6
        }
      ]
    },
    {
      "cell_type": "code",
      "source": [
        "np.percentile(marks,[50])"
      ],
      "metadata": {
        "colab": {
          "base_uri": "https://localhost:8080/"
        },
        "id": "VbuoT2MLvQGq",
        "outputId": "b8e522ef-288b-48d2-ffe4-f85131396702"
      },
      "execution_count": 8,
      "outputs": [
        {
          "output_type": "execute_result",
          "data": {
            "text/plain": [
              "array([78.])"
            ]
          },
          "metadata": {},
          "execution_count": 8
        }
      ]
    },
    {
      "cell_type": "code",
      "source": [
        "np.percentile(marks,[100])"
      ],
      "metadata": {
        "colab": {
          "base_uri": "https://localhost:8080/"
        },
        "id": "i8c70JfsvV56",
        "outputId": "8d11bba2-59da-4924-d5f5-96108ef1a7bd"
      },
      "execution_count": 9,
      "outputs": [
        {
          "output_type": "execute_result",
          "data": {
            "text/plain": [
              "array([1200.])"
            ]
          },
          "metadata": {},
          "execution_count": 9
        }
      ]
    },
    {
      "cell_type": "code",
      "source": [
        "np.percentile(marks,[0])"
      ],
      "metadata": {
        "colab": {
          "base_uri": "https://localhost:8080/"
        },
        "id": "q7DhfJ5vvnYU",
        "outputId": "a865caf5-3ae3-4ffb-b35b-5560b7ff5eee"
      },
      "execution_count": 10,
      "outputs": [
        {
          "output_type": "execute_result",
          "data": {
            "text/plain": [
              "array([23.])"
            ]
          },
          "metadata": {},
          "execution_count": 10
        }
      ]
    },
    {
      "cell_type": "code",
      "source": [
        "min,Q1,Q2,Q3,Max = np.quantile(marks,[0,.25,.50,.75,1.0])   ## find min,Q1,Q2,Q3,Max using quantile inbuilt functions"
      ],
      "metadata": {
        "id": "5nKblH3lvpPr"
      },
      "execution_count": 11,
      "outputs": []
    },
    {
      "cell_type": "code",
      "source": [
        "min"
      ],
      "metadata": {
        "colab": {
          "base_uri": "https://localhost:8080/"
        },
        "id": "WFfboxoQyfVi",
        "outputId": "d5101e83-5706-49e5-f360-03cfc7708e04"
      },
      "execution_count": 12,
      "outputs": [
        {
          "output_type": "execute_result",
          "data": {
            "text/plain": [
              "23.0"
            ]
          },
          "metadata": {},
          "execution_count": 12
        }
      ]
    },
    {
      "cell_type": "code",
      "source": [
        "# finding the lower fence <-------->higher fence\n",
        "IQR = Q3-Q1   # finding the IQR (Inter quantile range)"
      ],
      "metadata": {
        "id": "iC_GaPvZygNW"
      },
      "execution_count": 13,
      "outputs": []
    },
    {
      "cell_type": "code",
      "source": [
        "IQR"
      ],
      "metadata": {
        "colab": {
          "base_uri": "https://localhost:8080/"
        },
        "id": "UXLfTh1dz6Cn",
        "outputId": "50807a84-5b0f-4d1e-e431-2a670103a71c"
      },
      "execution_count": 14,
      "outputs": [
        {
          "output_type": "execute_result",
          "data": {
            "text/plain": [
              "43.0"
            ]
          },
          "metadata": {},
          "execution_count": 14
        }
      ]
    },
    {
      "cell_type": "code",
      "source": [
        "lower_fence = Q1-1.5*(IQR)   #  finding the lower_fence\n",
        "higher_fence =Q3+1.5*(IQR)    #  finding the higher_fence"
      ],
      "metadata": {
        "id": "znLx0qGvz76X"
      },
      "execution_count": 16,
      "outputs": []
    },
    {
      "cell_type": "code",
      "source": [
        "lower_fance,higher_fence"
      ],
      "metadata": {
        "colab": {
          "base_uri": "https://localhost:8080/"
        },
        "id": "ZPLvT6Si0JkO",
        "outputId": "31eaadbd-899f-4f7a-d74c-8029f4f9ef64"
      },
      "execution_count": 17,
      "outputs": [
        {
          "output_type": "execute_result",
          "data": {
            "text/plain": [
              "(-15.5, 156.5)"
            ]
          },
          "metadata": {},
          "execution_count": 17
        }
      ]
    },
    {
      "cell_type": "code",
      "source": [
        "outliers =[]\n",
        "for i in marks:\n",
        "  if i>=-15.5 and i<=156.5:\n",
        "    print('this element is not an outlier')\n",
        "else:\n",
        "    outliers.append(i)"
      ],
      "metadata": {
        "colab": {
          "base_uri": "https://localhost:8080/"
        },
        "id": "05qjDbSP0jis",
        "outputId": "1bf2e3cd-2829-4034-a150-74371e07faeb"
      },
      "execution_count": 28,
      "outputs": [
        {
          "output_type": "stream",
          "name": "stdout",
          "text": [
            "this element is not an outlier\n",
            "this element is not an outlier\n",
            "this element is not an outlier\n",
            "this element is not an outlier\n",
            "this element is not an outlier\n",
            "this element is not an outlier\n",
            "this element is not an outlier\n",
            "this element is not an outlier\n",
            "this element is not an outlier\n",
            "this element is not an outlier\n",
            "this element is not an outlier\n",
            "this element is not an outlier\n",
            "this element is not an outlier\n",
            "this element is not an outlier\n",
            "this element is not an outlier\n"
          ]
        }
      ]
    },
    {
      "cell_type": "code",
      "source": [
        "outliers"
      ],
      "metadata": {
        "colab": {
          "base_uri": "https://localhost:8080/"
        },
        "id": "CoTlRJtk2EsI",
        "outputId": "f95116f1-069e-4ba5-90b6-f87998ba8362"
      },
      "execution_count": 29,
      "outputs": [
        {
          "output_type": "execute_result",
          "data": {
            "text/plain": [
              "[1200]"
            ]
          },
          "metadata": {},
          "execution_count": 29
        }
      ]
    },
    {
      "cell_type": "code",
      "source": [
        "import seaborn as sns"
      ],
      "metadata": {
        "id": "aErQMfHG2OBd"
      },
      "execution_count": 30,
      "outputs": []
    },
    {
      "cell_type": "code",
      "source": [
        "sns.boxplot(marks)"
      ],
      "metadata": {
        "colab": {
          "base_uri": "https://localhost:8080/",
          "height": 447
        },
        "id": "m27lU31G3MY4",
        "outputId": "ca95f502-255f-404b-d104-33c4bdad0abf"
      },
      "execution_count": 31,
      "outputs": [
        {
          "output_type": "execute_result",
          "data": {
            "text/plain": [
              "<Axes: >"
            ]
          },
          "metadata": {},
          "execution_count": 31
        },
        {
          "output_type": "display_data",
          "data": {
            "text/plain": [
              "<Figure size 640x480 with 1 Axes>"
            ],
            "image/png": "[encoded data removed]"
          },
          "metadata": {}
        }
      ]
    },
    {
      "cell_type": "code",
      "source": [],
      "metadata": {
        "id": "LpnwtqNd3RG3"
      },
      "execution_count": null,
      "outputs": []
    }
  ]
}